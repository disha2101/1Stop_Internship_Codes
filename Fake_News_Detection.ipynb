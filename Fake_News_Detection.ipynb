{
  "nbformat": 4,
  "nbformat_minor": 0,
  "metadata": {
    "colab": {
      "name": "Fake News Detection.ipynb",
      "provenance": [],
      "authorship_tag": "ABX9TyMo6zXMBuJAELvpgQOcdcFV",
      "include_colab_link": true
    },
    "kernelspec": {
      "name": "python3",
      "display_name": "Python 3"
    },
    "language_info": {
      "name": "python"
    }
  },
  "cells": [
    {
      "cell_type": "markdown",
      "metadata": {
        "id": "view-in-github",
        "colab_type": "text"
      },
      "source": [
        "<a href=\"https://colab.research.google.com/github/disha2101/1Stop_Internship_Codes/blob/main/Fake_News_Detection.ipynb\" target=\"_parent\"><img src=\"https://colab.research.google.com/assets/colab-badge.svg\" alt=\"Open In Colab\"/></a>"
      ]
    },
    {
      "cell_type": "markdown",
      "metadata": {
        "id": "knTFl280N3Lh"
      },
      "source": [
        "#Fake News Detection\n",
        "\n",
        "Author: ***Disha Bahal***"
      ]
    },
    {
      "cell_type": "markdown",
      "metadata": {
        "id": "7JrVgxNqWLtc"
      },
      "source": [
        "##Steps for detecting Fake News with Python\n",
        "\n",
        "\n",
        "*   Make necessary imports\n",
        "*   Now, let’s read the data into a DataFrame, and get the shape of the data and the first 5 records. \n",
        "\n",
        "\n",
        "*   And get the labels from the DataFrame.\n",
        "*   Split the dataset into training and testing sets.\n",
        "\n",
        "\n",
        "\n",
        "\n",
        "\n",
        "*   Let’s initialize a TfidfVectorizer with stop words from the English language and a maximum document frequency of 0.7 (terms with a higher document frequency will be discarded). Stop words are the most common words in a language that are to be filtered out before processing the natural language data. And a TfidfVectorizer turns a collection of raw documents into a matrix of TF-IDF features.Now, fit and transform the vectorizer on the train set, and transform the vectorizer on the test set.\n",
        "*  Next, we’ll initialize a PassiveAggressiveClassifier. This is. We’ll fit this on tfidf_train and y_train.\n",
        "*  Then, we’ll predict on the test set from the TfidfVectorizer and calculate the accuracy with accuracy_score() from sklearn.metrics.\n",
        "*  We got an accuracy of 92.82% with this model. Finally, let’s print out a confusion matrix to gain insight into the number of false and true negatives and positives.\n"
      ]
    },
    {
      "cell_type": "code",
      "metadata": {
        "id": "7e4lKyw_NtM-"
      },
      "source": [
        "#importing libraries\n",
        "import numpy as np\n",
        "import pandas as pd\n",
        "import itertools\n",
        "from sklearn.model_selection import train_test_split\n",
        "from sklearn.feature_extraction.text import TfidfVectorizer\n",
        "from sklearn.linear_model import PassiveAggressiveClassifier\n",
        "from sklearn.metrics import accuracy_score,confusion_matrix\n"
      ],
      "execution_count": 2,
      "outputs": []
    },
    {
      "cell_type": "code",
      "metadata": {
        "id": "PXmZfBwGReYO"
      },
      "source": [
        "df = pd.read_csv('news.csv')"
      ],
      "execution_count": 11,
      "outputs": []
    },
    {
      "cell_type": "code",
      "metadata": {
        "colab": {
          "base_uri": "https://localhost:8080/",
          "height": 788
        },
        "id": "UuPGAf4gQRxM",
        "outputId": "ed52828e-d5ad-43ba-dac6-54f48d0ed352"
      },
      "source": [
        "df.shape\n",
        "df.head(20)"
      ],
      "execution_count": 13,
      "outputs": [
        {
          "output_type": "execute_result",
          "data": {
            "text/html": [
              "<div>\n",
              "<style scoped>\n",
              "    .dataframe tbody tr th:only-of-type {\n",
              "        vertical-align: middle;\n",
              "    }\n",
              "\n",
              "    .dataframe tbody tr th {\n",
              "        vertical-align: top;\n",
              "    }\n",
              "\n",
              "    .dataframe thead th {\n",
              "        text-align: right;\n",
              "    }\n",
              "</style>\n",
              "<table border=\"1\" class=\"dataframe\">\n",
              "  <thead>\n",
              "    <tr style=\"text-align: right;\">\n",
              "      <th></th>\n",
              "      <th>Unnamed: 0</th>\n",
              "      <th>title</th>\n",
              "      <th>text</th>\n",
              "      <th>label</th>\n",
              "    </tr>\n",
              "  </thead>\n",
              "  <tbody>\n",
              "    <tr>\n",
              "      <th>0</th>\n",
              "      <td>8476</td>\n",
              "      <td>You Can Smell Hillary’s Fear</td>\n",
              "      <td>Daniel Greenfield, a Shillman Journalism Fello...</td>\n",
              "      <td>FAKE</td>\n",
              "    </tr>\n",
              "    <tr>\n",
              "      <th>1</th>\n",
              "      <td>10294</td>\n",
              "      <td>Watch The Exact Moment Paul Ryan Committed Pol...</td>\n",
              "      <td>Google Pinterest Digg Linkedin Reddit Stumbleu...</td>\n",
              "      <td>FAKE</td>\n",
              "    </tr>\n",
              "    <tr>\n",
              "      <th>2</th>\n",
              "      <td>3608</td>\n",
              "      <td>Kerry to go to Paris in gesture of sympathy</td>\n",
              "      <td>U.S. Secretary of State John F. Kerry said Mon...</td>\n",
              "      <td>REAL</td>\n",
              "    </tr>\n",
              "    <tr>\n",
              "      <th>3</th>\n",
              "      <td>10142</td>\n",
              "      <td>Bernie supporters on Twitter erupt in anger ag...</td>\n",
              "      <td>— Kaydee King (@KaydeeKing) November 9, 2016 T...</td>\n",
              "      <td>FAKE</td>\n",
              "    </tr>\n",
              "    <tr>\n",
              "      <th>4</th>\n",
              "      <td>875</td>\n",
              "      <td>The Battle of New York: Why This Primary Matters</td>\n",
              "      <td>It's primary day in New York and front-runners...</td>\n",
              "      <td>REAL</td>\n",
              "    </tr>\n",
              "    <tr>\n",
              "      <th>5</th>\n",
              "      <td>6903</td>\n",
              "      <td>Tehran, USA</td>\n",
              "      <td>\\nI’m not an immigrant, but my grandparents ...</td>\n",
              "      <td>FAKE</td>\n",
              "    </tr>\n",
              "    <tr>\n",
              "      <th>6</th>\n",
              "      <td>7341</td>\n",
              "      <td>Girl Horrified At What She Watches Boyfriend D...</td>\n",
              "      <td>Share This Baylee Luciani (left), Screenshot o...</td>\n",
              "      <td>FAKE</td>\n",
              "    </tr>\n",
              "    <tr>\n",
              "      <th>7</th>\n",
              "      <td>95</td>\n",
              "      <td>‘Britain’s Schindler’ Dies at 106</td>\n",
              "      <td>A Czech stockbroker who saved more than 650 Je...</td>\n",
              "      <td>REAL</td>\n",
              "    </tr>\n",
              "    <tr>\n",
              "      <th>8</th>\n",
              "      <td>4869</td>\n",
              "      <td>Fact check: Trump and Clinton at the 'commande...</td>\n",
              "      <td>Hillary Clinton and Donald Trump made some ina...</td>\n",
              "      <td>REAL</td>\n",
              "    </tr>\n",
              "    <tr>\n",
              "      <th>9</th>\n",
              "      <td>2909</td>\n",
              "      <td>Iran reportedly makes new push for uranium con...</td>\n",
              "      <td>Iranian negotiators reportedly have made a las...</td>\n",
              "      <td>REAL</td>\n",
              "    </tr>\n",
              "    <tr>\n",
              "      <th>10</th>\n",
              "      <td>1357</td>\n",
              "      <td>With all three Clintons in Iowa, a glimpse at ...</td>\n",
              "      <td>CEDAR RAPIDS, Iowa — “I had one of the most wo...</td>\n",
              "      <td>REAL</td>\n",
              "    </tr>\n",
              "    <tr>\n",
              "      <th>11</th>\n",
              "      <td>988</td>\n",
              "      <td>Donald Trump’s Shockingly Weak Delegate Game S...</td>\n",
              "      <td>Donald Trump’s organizational problems have go...</td>\n",
              "      <td>REAL</td>\n",
              "    </tr>\n",
              "    <tr>\n",
              "      <th>12</th>\n",
              "      <td>7041</td>\n",
              "      <td>Strong Solar Storm, Tech Risks Today | S0 News...</td>\n",
              "      <td>Click Here To Learn More About Alexandra's Per...</td>\n",
              "      <td>FAKE</td>\n",
              "    </tr>\n",
              "    <tr>\n",
              "      <th>13</th>\n",
              "      <td>7623</td>\n",
              "      <td>10 Ways America Is Preparing for World War 3</td>\n",
              "      <td>October 31, 2016 at 4:52 am \\nPretty factual e...</td>\n",
              "      <td>FAKE</td>\n",
              "    </tr>\n",
              "    <tr>\n",
              "      <th>14</th>\n",
              "      <td>1571</td>\n",
              "      <td>Trump takes on Cruz, but lightly</td>\n",
              "      <td>Killing Obama administration rules, dismantlin...</td>\n",
              "      <td>REAL</td>\n",
              "    </tr>\n",
              "    <tr>\n",
              "      <th>15</th>\n",
              "      <td>4739</td>\n",
              "      <td>How women lead differently</td>\n",
              "      <td>As more women move into high offices, they oft...</td>\n",
              "      <td>REAL</td>\n",
              "    </tr>\n",
              "    <tr>\n",
              "      <th>16</th>\n",
              "      <td>7737</td>\n",
              "      <td>Shocking! Michele Obama &amp; Hillary Caught Glamo...</td>\n",
              "      <td>Shocking! Michele Obama &amp; Hillary Caught Glamo...</td>\n",
              "      <td>FAKE</td>\n",
              "    </tr>\n",
              "    <tr>\n",
              "      <th>17</th>\n",
              "      <td>8716</td>\n",
              "      <td>Hillary Clinton in HUGE Trouble After America ...</td>\n",
              "      <td>0 \\nHillary Clinton has barely just lost the p...</td>\n",
              "      <td>FAKE</td>\n",
              "    </tr>\n",
              "    <tr>\n",
              "      <th>18</th>\n",
              "      <td>3304</td>\n",
              "      <td>What's in that Iran bill that Obama doesn't like?</td>\n",
              "      <td>Washington (CNN) For months, the White House a...</td>\n",
              "      <td>REAL</td>\n",
              "    </tr>\n",
              "    <tr>\n",
              "      <th>19</th>\n",
              "      <td>3078</td>\n",
              "      <td>The 1 chart that explains everything you need ...</td>\n",
              "      <td>While paging through Pew's best data visualiza...</td>\n",
              "      <td>REAL</td>\n",
              "    </tr>\n",
              "  </tbody>\n",
              "</table>\n",
              "</div>"
            ],
            "text/plain": [
              "    Unnamed: 0  ... label\n",
              "0         8476  ...  FAKE\n",
              "1        10294  ...  FAKE\n",
              "2         3608  ...  REAL\n",
              "3        10142  ...  FAKE\n",
              "4          875  ...  REAL\n",
              "5         6903  ...  FAKE\n",
              "6         7341  ...  FAKE\n",
              "7           95  ...  REAL\n",
              "8         4869  ...  REAL\n",
              "9         2909  ...  REAL\n",
              "10        1357  ...  REAL\n",
              "11         988  ...  REAL\n",
              "12        7041  ...  FAKE\n",
              "13        7623  ...  FAKE\n",
              "14        1571  ...  REAL\n",
              "15        4739  ...  REAL\n",
              "16        7737  ...  FAKE\n",
              "17        8716  ...  FAKE\n",
              "18        3304  ...  REAL\n",
              "19        3078  ...  REAL\n",
              "\n",
              "[20 rows x 4 columns]"
            ]
          },
          "metadata": {
            "tags": []
          },
          "execution_count": 13
        }
      ]
    },
    {
      "cell_type": "code",
      "metadata": {
        "colab": {
          "base_uri": "https://localhost:8080/"
        },
        "id": "j8My3VW3Rt4Q",
        "outputId": "d977b36b-36bc-44ac-8bf6-c1b5a4fa6be8"
      },
      "source": [
        "#Getting the labels\n",
        "labels = df.label\n",
        "labels.head(20)"
      ],
      "execution_count": 15,
      "outputs": [
        {
          "output_type": "execute_result",
          "data": {
            "text/plain": [
              "0     FAKE\n",
              "1     FAKE\n",
              "2     REAL\n",
              "3     FAKE\n",
              "4     REAL\n",
              "5     FAKE\n",
              "6     FAKE\n",
              "7     REAL\n",
              "8     REAL\n",
              "9     REAL\n",
              "10    REAL\n",
              "11    REAL\n",
              "12    FAKE\n",
              "13    FAKE\n",
              "14    REAL\n",
              "15    REAL\n",
              "16    FAKE\n",
              "17    FAKE\n",
              "18    REAL\n",
              "19    REAL\n",
              "Name: label, dtype: object"
            ]
          },
          "metadata": {
            "tags": []
          },
          "execution_count": 15
        }
      ]
    },
    {
      "cell_type": "code",
      "metadata": {
        "id": "JMwpCLNhSNaY"
      },
      "source": [
        "#Split the dataset\n",
        "x_train,x_test,y_train,y_test = train_test_split(df['text'],labels,test_size=0.2,random_state=7)"
      ],
      "execution_count": 17,
      "outputs": []
    },
    {
      "cell_type": "code",
      "metadata": {
        "id": "o-sp2yUWSdR0"
      },
      "source": [
        "#Initialize a TfidfVectorizer\n",
        "tfidf_vectorizer = TfidfVectorizer(stop_words='english',max_df=0.7)\n",
        "\n",
        "#fit and transform train set,transform test set\n",
        "tfidf_train = tfidf_vectorizer.fit_transform(x_train)\n",
        "tfidf_test = tfidf_vectorizer.transform(x_test)"
      ],
      "execution_count": 18,
      "outputs": []
    },
    {
      "cell_type": "code",
      "metadata": {
        "colab": {
          "base_uri": "https://localhost:8080/"
        },
        "id": "Lj5rbAgwTN-Q",
        "outputId": "7314df6c-dc71-462a-fc45-b84da5398b56"
      },
      "source": [
        "#Initialize a PassiveAggressiveClassifier\n",
        "pac = PassiveAggressiveClassifier(max_iter=50)\n",
        "pac.fit(tfidf_train,y_train)\n",
        "\n",
        "#Predict on the test set and calculate accuracy\n",
        "y_pred = pac.predict(tfidf_test)\n",
        "score = accuracy_score(y_test,y_pred)\n",
        "print(f'Accuracy: {round(score*100,2)}% tells how well the model fares')"
      ],
      "execution_count": 21,
      "outputs": [
        {
          "output_type": "stream",
          "text": [
            "Accuracy: 92.5% tells how well the model fares\n"
          ],
          "name": "stdout"
        }
      ]
    },
    {
      "cell_type": "code",
      "metadata": {
        "colab": {
          "base_uri": "https://localhost:8080/"
        },
        "id": "b9dqvQv5Twcl",
        "outputId": "761ac108-12c7-44fc-f335-640029865e41"
      },
      "source": [
        "#Build Confusion Matrix\n",
        "confusion_matrix(y_test,y_pred,labels=['FAKE','REAL'])"
      ],
      "execution_count": 20,
      "outputs": [
        {
          "output_type": "execute_result",
          "data": {
            "text/plain": [
              "array([[591,  47],\n",
              "       [ 41, 588]])"
            ]
          },
          "metadata": {
            "tags": []
          },
          "execution_count": 20
        }
      ]
    }
  ]
}