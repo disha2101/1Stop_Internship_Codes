{
  "nbformat": 4,
  "nbformat_minor": 0,
  "metadata": {
    "colab": {
      "name": "Thompson Sampling.ipynb",
      "provenance": [],
      "collapsed_sections": [],
      "authorship_tag": "ABX9TyM/fcfogEHrbr2JF74qsWmo",
      "include_colab_link": true
    },
    "kernelspec": {
      "name": "python3",
      "display_name": "Python 3"
    },
    "language_info": {
      "name": "python"
    }
  },
  "cells": [
    {
      "cell_type": "markdown",
      "metadata": {
        "id": "view-in-github",
        "colab_type": "text"
      },
      "source": [
        "<a href=\"https://colab.research.google.com/github/disha2101/1Stop_Internship_Codes/blob/main/Thompson_Sampling.ipynb\" target=\"_parent\"><img src=\"https://colab.research.google.com/assets/colab-badge.svg\" alt=\"Open In Colab\"/></a>"
      ]
    },
    {
      "cell_type": "code",
      "metadata": {
        "id": "OJr9fmBOLKdD"
      },
      "source": [
        "#importing the required libraries\n",
        "import pandas as pd\n",
        "import matplotlib.pyplot as plt\n",
        "import random"
      ],
      "execution_count": null,
      "outputs": []
    },
    {
      "cell_type": "code",
      "metadata": {
        "id": "-1GTLSycLUfz"
      },
      "source": [
        "dataset = pd.read_csv('Ads_CTR_Optimisation.csv')"
      ],
      "execution_count": null,
      "outputs": []
    },
    {
      "cell_type": "code",
      "metadata": {
        "id": "ylZCqG2ELfup"
      },
      "source": [
        "#implement Thompson Sampling\n",
        "N = 1000\n",
        "d = 10\n",
        "ads_selected = []\n",
        "number_of_rewards_1 =[0] * d\n",
        "number_of_rewards_0 =[0] * d\n",
        "total_reward = 0\n",
        "\n",
        "for n in range(0,N):\n",
        "  ad = 0\n",
        "  max_random = 0 \n",
        "  for i in range(0,d):\n",
        "    random_beta = random.betavariate(number_of_rewards_1[i]+1,number_of_rewards_0[i]+1)\n",
        "    if random_beta > max_random:\n",
        "      max_random = random_beta\n",
        "      ad = i\n",
        "  ads_selected.append(ad)\n",
        "  reward = dataset.values[n,ad]\n",
        "  if reward == 1:\n",
        "    number_of_rewards_1[ad] = number_of_rewards_1[ad] + 1\n",
        "  else:\n",
        "    number_of_rewards_0[ad] = number_of_rewards_0[ad] + 1\n",
        "  total_reward += reward"
      ],
      "execution_count": null,
      "outputs": []
    },
    {
      "cell_type": "code",
      "metadata": {
        "colab": {
          "base_uri": "https://localhost:8080/",
          "height": 312
        },
        "id": "RNurs1Y3PKIY",
        "outputId": "b1504fb3-3abd-4f8a-d3f0-58a8dbbcb6f1"
      },
      "source": [
        "plt.hist(ads_selected)\n",
        "plt.title(\"Histogram of selected ads\")\n",
        "plt.xlabel('Ads')\n",
        "plt.ylabel('No of times the ad was selected')"
      ],
      "execution_count": null,
      "outputs": [
        {
          "output_type": "execute_result",
          "data": {
            "text/plain": [
              "Text(0, 0.5, 'No of times the ad was selected')"
            ]
          },
          "metadata": {},
          "execution_count": 16
        },
        {
          "output_type": "display_data",
          "data": {
            "image/png": "[encoded data removed]",
            "text/plain": [
              "<Figure size 432x288 with 1 Axes>"
            ]
          },
          "metadata": {
            "needs_background": "light"
          }
        }
      ]
    }
  ]
}