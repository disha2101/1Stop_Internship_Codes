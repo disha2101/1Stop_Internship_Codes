{
  "nbformat": 4,
  "nbformat_minor": 0,
  "metadata": {
    "colab": {
      "name": "EDA(Histograms).ipynb",
      "provenance": [],
      "authorship_tag": "ABX9TyPN7LoM5d5+r9bxuPipLoa8",
      "include_colab_link": true
    },
    "kernelspec": {
      "name": "python3",
      "display_name": "Python 3"
    },
    "language_info": {
      "name": "python"
    }
  },
  "cells": [
    {
      "cell_type": "markdown",
      "metadata": {
        "id": "view-in-github",
        "colab_type": "text"
      },
      "source": [
        "<a href=\"https://colab.research.google.com/github/disha2101/1Stop_Internship_Codes/blob/main/EDA(Histograms).ipynb\" target=\"_parent\"><img src=\"https://colab.research.google.com/assets/colab-badge.svg\" alt=\"Open In Colab\"/></a>"
      ]
    },
    {
      "cell_type": "code",
      "metadata": {
        "id": "T6j463WvYD9g"
      },
      "source": [
        "import matplotlib.pyplot as plt\n",
        "\n",
        "from random import randint\n"
      ],
      "execution_count": 18,
      "outputs": []
    },
    {
      "cell_type": "code",
      "metadata": {
        "id": "Nn-9uLt1YcXW"
      },
      "source": [
        "#Creating Class named Die\n",
        "\n",
        "class Die():\n",
        "  def __init__(self,num_sides = 6):\n",
        "    self.num_sides = num_sides\n",
        "  def roll(self):\n",
        "    return randint(1,self.num_sides)"
      ],
      "execution_count": 5,
      "outputs": []
    },
    {
      "cell_type": "code",
      "metadata": {
        "colab": {
          "base_uri": "https://localhost:8080/"
        },
        "id": "tW5TG0a8Y9T1",
        "outputId": "4b48b1a4-4e88-46c3-fa3a-377e14ef9373"
      },
      "source": [
        "# from die import Die\n",
        "die = Die()\n",
        "\n",
        "results = [] \n",
        "for roll_num in range(10):\n",
        "   result = die.roll()\n",
        "   results.append(result)\n",
        "\n",
        "print(\"results are: \",results)\n",
        "\n",
        "frequencies = []\n",
        "for value in range(1,die.num_sides+1):\n",
        "  frequency = results.count(value)\n",
        "  frequencies.append(frequency)\n",
        "\n",
        "print(\"frequencies are :\",frequencies)\n"
      ],
      "execution_count": 11,
      "outputs": [
        {
          "output_type": "stream",
          "text": [
            "results are:  [5, 3, 2, 3, 4, 2, 2, 2, 1, 1]\n",
            "frequencies are : [2, 4, 2, 1, 1, 0]\n"
          ],
          "name": "stdout"
        }
      ]
    },
    {
      "cell_type": "code",
      "metadata": {
        "colab": {
          "base_uri": "https://localhost:8080/"
        },
        "id": "X_zht_XhaTjZ",
        "outputId": "1a78d26e-2dfc-4166-c759-cb213197da25"
      },
      "source": [
        "pip install pygal\n"
      ],
      "execution_count": 14,
      "outputs": [
        {
          "output_type": "stream",
          "text": [
            "Collecting pygal\n",
            "  Downloading pygal-2.4.0-py2.py3-none-any.whl (127 kB)\n",
            "\u001b[?25l\r\u001b[K     |██▋                             | 10 kB 21.7 MB/s eta 0:00:01\r\u001b[K     |█████▏                          | 20 kB 27.9 MB/s eta 0:00:01\r\u001b[K     |███████▊                        | 30 kB 33.4 MB/s eta 0:00:01\r\u001b[K     |██████████▎                     | 40 kB 32.6 MB/s eta 0:00:01\r\u001b[K     |████████████▉                   | 51 kB 22.5 MB/s eta 0:00:01\r\u001b[K     |███████████████▍                | 61 kB 13.9 MB/s eta 0:00:01\r\u001b[K     |██████████████████              | 71 kB 13.7 MB/s eta 0:00:01\r\u001b[K     |████████████████████▌           | 81 kB 14.9 MB/s eta 0:00:01\r\u001b[K     |███████████████████████▏        | 92 kB 15.1 MB/s eta 0:00:01\r\u001b[K     |█████████████████████████▊      | 102 kB 14.8 MB/s eta 0:00:01\r\u001b[K     |████████████████████████████▎   | 112 kB 14.8 MB/s eta 0:00:01\r\u001b[K     |██████████████████████████████▉ | 122 kB 14.8 MB/s eta 0:00:01\r\u001b[K     |████████████████████████████████| 127 kB 14.8 MB/s \n",
            "\u001b[?25hInstalling collected packages: pygal\n",
            "Successfully installed pygal-2.4.0\n"
          ],
          "name": "stdout"
        }
      ]
    },
    {
      "cell_type": "code",
      "metadata": {
        "id": "ZSV5XIkmZoe5"
      },
      "source": [
        "import pygal\n",
        "hist = pygal.Bar()\n",
        "hist.add('D6',frequencies)\n",
        "hist.render_to_file('histogram.svg')"
      ],
      "execution_count": 21,
      "outputs": []
    },
    {
      "cell_type": "code",
      "metadata": {
        "colab": {
          "base_uri": "https://localhost:8080/",
          "height": 316
        },
        "id": "47MXy_zrbFFJ",
        "outputId": "983b7a89-5bff-4d20-f691-9c70b17e4fdf"
      },
      "source": [
        "plt.hist(frequencies)\n"
      ],
      "execution_count": 22,
      "outputs": [
        {
          "output_type": "execute_result",
          "data": {
            "text/plain": [
              "(array([1., 0., 2., 0., 0., 2., 0., 0., 0., 1.]),\n",
              " array([0. , 0.4, 0.8, 1.2, 1.6, 2. , 2.4, 2.8, 3.2, 3.6, 4. ]),\n",
              " <a list of 10 Patch objects>)"
            ]
          },
          "metadata": {
            "tags": []
          },
          "execution_count": 22
        },
        {
          "output_type": "display_data",
          "data": {
            "image/png": "[encoded data removed]",
            "text/plain": [
              "<Figure size 432x288 with 1 Axes>"
            ]
          },
          "metadata": {
            "tags": [],
            "needs_background": "light"
          }
        }
      ]
    },
    {
      "cell_type": "code",
      "metadata": {
        "colab": {
          "base_uri": "https://localhost:8080/",
          "height": 316
        },
        "id": "qd8Ck0mHbHbO",
        "outputId": "3e60a75f-5e71-4d8d-ba5d-f962da3be3bf"
      },
      "source": [
        "plt.hist(results)"
      ],
      "execution_count": 23,
      "outputs": [
        {
          "output_type": "execute_result",
          "data": {
            "text/plain": [
              "(array([2., 0., 4., 0., 0., 2., 0., 1., 0., 1.]),\n",
              " array([1. , 1.4, 1.8, 2.2, 2.6, 3. , 3.4, 3.8, 4.2, 4.6, 5. ]),\n",
              " <a list of 10 Patch objects>)"
            ]
          },
          "metadata": {
            "tags": []
          },
          "execution_count": 23
        },
        {
          "output_type": "display_data",
          "data": {
            "image/png": "[encoded data removed]",
            "text/plain": [
              "<Figure size 432x288 with 1 Axes>"
            ]
          },
          "metadata": {
            "tags": [],
            "needs_background": "light"
          }
        }
      ]
    }
  ]
}